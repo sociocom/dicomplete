{
 "cells": [
  {
   "cell_type": "code",
   "execution_count": 1,
   "metadata": {},
   "outputs": [
    {
     "name": "stderr",
     "output_type": "stream",
     "text": [
      "/tmp/ipykernel_1179834/4080736814.py:1: DeprecationWarning: \n",
      "Pyarrow will become a required dependency of pandas in the next major release of pandas (pandas 3.0),\n",
      "(to allow more performant data types, such as the Arrow string type, and better interoperability with other libraries)\n",
      "but was not found to be installed on your system.\n",
      "If this would cause problems for you,\n",
      "please provide us feedback at https://github.com/pandas-dev/pandas/issues/54466\n",
      "        \n",
      "  import pandas as pd\n"
     ]
    }
   ],
   "source": [
    "import pandas as pd"
   ]
  },
  {
   "cell_type": "code",
   "execution_count": 2,
   "metadata": {},
   "outputs": [],
   "source": [
    "df = pd.read_csv('../data/inputs/DISEASE_SIP-3_v202401_2.4_small.csv')"
   ]
  },
  {
   "cell_type": "code",
   "execution_count": 3,
   "metadata": {},
   "outputs": [],
   "source": [
    "output_df = pd.read_csv(\"../data/outputs/出現形_to_正規形_epoch_50_2024-03-01T18:58:01.csv\")"
   ]
  },
  {
   "cell_type": "code",
   "execution_count": 4,
   "metadata": {},
   "outputs": [
    {
     "data": {
      "text/html": [
       "<div>\n",
       "<style scoped>\n",
       "    .dataframe tbody tr th:only-of-type {\n",
       "        vertical-align: middle;\n",
       "    }\n",
       "\n",
       "    .dataframe tbody tr th {\n",
       "        vertical-align: top;\n",
       "    }\n",
       "\n",
       "    .dataframe thead th {\n",
       "        text-align: right;\n",
       "    }\n",
       "</style>\n",
       "<table border=\"1\" class=\"dataframe\">\n",
       "  <thead>\n",
       "    <tr style=\"text-align: right;\">\n",
       "      <th></th>\n",
       "      <th>出現形</th>\n",
       "      <th>正規形</th>\n",
       "      <th>正規形_generated</th>\n",
       "      <th>temp_flag</th>\n",
       "    </tr>\n",
       "  </thead>\n",
       "  <tbody>\n",
       "    <tr>\n",
       "      <th>0</th>\n",
       "      <td>先天異常</td>\n",
       "      <td>先天異常</td>\n",
       "      <td>[ERR]</td>\n",
       "      <td>D</td>\n",
       "    </tr>\n",
       "    <tr>\n",
       "      <th>1</th>\n",
       "      <td>唾液</td>\n",
       "      <td>NaN</td>\n",
       "      <td>[ERR]</td>\n",
       "      <td>D</td>\n",
       "    </tr>\n",
       "  </tbody>\n",
       "</table>\n",
       "</div>"
      ],
      "text/plain": [
       "    出現形   正規形 正規形_generated temp_flag\n",
       "0  先天異常  先天異常         [ERR]         D\n",
       "1    唾液   NaN         [ERR]         D"
      ]
     },
     "execution_count": 4,
     "metadata": {},
     "output_type": "execute_result"
    }
   ],
   "source": [
    "output_df.head(2)"
   ]
  },
  {
   "cell_type": "code",
   "execution_count": 5,
   "metadata": {},
   "outputs": [],
   "source": [
    "df_merge = pd.merge(df, output_df[[\"出現形\",\"正規形_generated\"]], on='出現形', how='left')"
   ]
  },
  {
   "cell_type": "code",
   "execution_count": 6,
   "metadata": {},
   "outputs": [],
   "source": [
    "df_merge.loc[df_merge[\"正規形_generated\"].isnull(), \"正規形_generated\"] = df_merge[\"正規形\"]"
   ]
  },
  {
   "cell_type": "code",
   "execution_count": 7,
   "metadata": {},
   "outputs": [
    {
     "data": {
      "text/html": [
       "<div>\n",
       "<style scoped>\n",
       "    .dataframe tbody tr th:only-of-type {\n",
       "        vertical-align: middle;\n",
       "    }\n",
       "\n",
       "    .dataframe tbody tr th {\n",
       "        vertical-align: top;\n",
       "    }\n",
       "\n",
       "    .dataframe thead th {\n",
       "        text-align: right;\n",
       "    }\n",
       "</style>\n",
       "<table border=\"1\" class=\"dataframe\">\n",
       "  <thead>\n",
       "    <tr style=\"text-align: right;\">\n",
       "      <th></th>\n",
       "      <th>ID</th>\n",
       "      <th>出現形</th>\n",
       "      <th>出現形_flag</th>\n",
       "      <th>出現形よみ</th>\n",
       "      <th>出現形よみ_flag</th>\n",
       "      <th>正規形</th>\n",
       "      <th>正規形_flag</th>\n",
       "      <th>正規形よみ</th>\n",
       "      <th>正規形よみ_flag</th>\n",
       "      <th>TREE</th>\n",
       "      <th>...</th>\n",
       "      <th>TYPE:症状_flag</th>\n",
       "      <th>TYPE:診断名</th>\n",
       "      <th>TYPE:診断名_flag</th>\n",
       "      <th>TYPE:否定</th>\n",
       "      <th>TYPE:否定_flag</th>\n",
       "      <th>FREQ:GLOBAL</th>\n",
       "      <th>FREQ:LOCAL</th>\n",
       "      <th>SOURCE</th>\n",
       "      <th>temp_flag</th>\n",
       "      <th>正規形_generated</th>\n",
       "    </tr>\n",
       "  </thead>\n",
       "  <tbody>\n",
       "    <tr>\n",
       "      <th>0</th>\n",
       "      <td>fe55650df39660acbe398b99908725d6</td>\n",
       "      <td>副作用</td>\n",
       "      <td>NaN</td>\n",
       "      <td>ふくさよう</td>\n",
       "      <td>C</td>\n",
       "      <td>-1</td>\n",
       "      <td>C</td>\n",
       "      <td>-1</td>\n",
       "      <td>B</td>\n",
       "      <td>-1</td>\n",
       "      <td>...</td>\n",
       "      <td>NaN</td>\n",
       "      <td>NaN</td>\n",
       "      <td>NaN</td>\n",
       "      <td>NaN</td>\n",
       "      <td>NaN</td>\n",
       "      <td>15232.0</td>\n",
       "      <td>NaN</td>\n",
       "      <td>JST;JAMSMDIC</td>\n",
       "      <td>S</td>\n",
       "      <td>-1</td>\n",
       "    </tr>\n",
       "    <tr>\n",
       "      <th>1</th>\n",
       "      <td>17eced89ff5b50b688b319d6c59016c3</td>\n",
       "      <td>合併症</td>\n",
       "      <td>NaN</td>\n",
       "      <td>がっぺいしょう</td>\n",
       "      <td>B</td>\n",
       "      <td>-1</td>\n",
       "      <td>B</td>\n",
       "      <td>-1</td>\n",
       "      <td>B</td>\n",
       "      <td>-1</td>\n",
       "      <td>...</td>\n",
       "      <td>C</td>\n",
       "      <td>0.0</td>\n",
       "      <td>C</td>\n",
       "      <td>NaN</td>\n",
       "      <td>NaN</td>\n",
       "      <td>14996.0</td>\n",
       "      <td>95-100%</td>\n",
       "      <td>MANBYO;JST;JAMSMDIC</td>\n",
       "      <td>S</td>\n",
       "      <td>-1</td>\n",
       "    </tr>\n",
       "  </tbody>\n",
       "</table>\n",
       "<p>2 rows × 56 columns</p>\n",
       "</div>"
      ],
      "text/plain": [
       "                                 ID  出現形 出現形_flag    出現形よみ 出現形よみ_flag 正規形  \\\n",
       "0  fe55650df39660acbe398b99908725d6  副作用      NaN    ふくさよう          C  -1   \n",
       "1  17eced89ff5b50b688b319d6c59016c3  合併症      NaN  がっぺいしょう          B  -1   \n",
       "\n",
       "  正規形_flag 正規形よみ 正規形よみ_flag TREE  ... TYPE:症状_flag TYPE:診断名 TYPE:診断名_flag  \\\n",
       "0        C    -1          B   -1  ...          NaN      NaN           NaN   \n",
       "1        B    -1          B   -1  ...            C      0.0             C   \n",
       "\n",
       "  TYPE:否定 TYPE:否定_flag  FREQ:GLOBAL  FREQ:LOCAL               SOURCE  \\\n",
       "0     NaN          NaN      15232.0         NaN         JST;JAMSMDIC   \n",
       "1     NaN          NaN      14996.0     95-100%  MANBYO;JST;JAMSMDIC   \n",
       "\n",
       "   temp_flag  正規形_generated  \n",
       "0          S             -1  \n",
       "1          S             -1  \n",
       "\n",
       "[2 rows x 56 columns]"
      ]
     },
     "execution_count": 7,
     "metadata": {},
     "output_type": "execute_result"
    }
   ],
   "source": [
    "df_merge.head(2)"
   ]
  },
  {
   "cell_type": "code",
   "execution_count": 13,
   "metadata": {},
   "outputs": [],
   "source": [
    "df_merge.loc[(df_merge[\"正規形_flag\"] ==\"S\") & (df_merge[\"temp_flag\"] != \"S\"), \"正規形_generated\"] = df_merge[\"正規形\"]"
   ]
  },
  {
   "cell_type": "code",
   "execution_count": 16,
   "metadata": {},
   "outputs": [
    {
     "data": {
      "text/html": [
       "<div>\n",
       "<style scoped>\n",
       "    .dataframe tbody tr th:only-of-type {\n",
       "        vertical-align: middle;\n",
       "    }\n",
       "\n",
       "    .dataframe tbody tr th {\n",
       "        vertical-align: top;\n",
       "    }\n",
       "\n",
       "    .dataframe thead th {\n",
       "        text-align: right;\n",
       "    }\n",
       "</style>\n",
       "<table border=\"1\" class=\"dataframe\">\n",
       "  <thead>\n",
       "    <tr style=\"text-align: right;\">\n",
       "      <th></th>\n",
       "      <th>出現形</th>\n",
       "      <th>正規形</th>\n",
       "      <th>正規形_generated</th>\n",
       "      <th>temp_flag</th>\n",
       "    </tr>\n",
       "  </thead>\n",
       "  <tbody>\n",
       "    <tr>\n",
       "      <th>2</th>\n",
       "      <td>糖尿病</td>\n",
       "      <td>糖尿病</td>\n",
       "      <td>糖尿病</td>\n",
       "      <td>S</td>\n",
       "    </tr>\n",
       "    <tr>\n",
       "      <th>4</th>\n",
       "      <td>癌</td>\n",
       "      <td>癌</td>\n",
       "      <td>癌</td>\n",
       "      <td>S</td>\n",
       "    </tr>\n",
       "    <tr>\n",
       "      <th>8</th>\n",
       "      <td>心不全</td>\n",
       "      <td>心不全</td>\n",
       "      <td>心不全</td>\n",
       "      <td>S</td>\n",
       "    </tr>\n",
       "    <tr>\n",
       "      <th>10</th>\n",
       "      <td>出血</td>\n",
       "      <td>出血</td>\n",
       "      <td>出血</td>\n",
       "      <td>S</td>\n",
       "    </tr>\n",
       "    <tr>\n",
       "      <th>11</th>\n",
       "      <td>腫瘍</td>\n",
       "      <td>腫瘍</td>\n",
       "      <td>腫瘍</td>\n",
       "      <td>S</td>\n",
       "    </tr>\n",
       "    <tr>\n",
       "      <th>...</th>\n",
       "      <td>...</td>\n",
       "      <td>...</td>\n",
       "      <td>...</td>\n",
       "      <td>...</td>\n",
       "    </tr>\n",
       "    <tr>\n",
       "      <th>9973</th>\n",
       "      <td>乳癌再発</td>\n",
       "      <td>乳癌再発</td>\n",
       "      <td>乳癌再発</td>\n",
       "      <td>S</td>\n",
       "    </tr>\n",
       "    <tr>\n",
       "      <th>9979</th>\n",
       "      <td>不安定型糖尿病</td>\n",
       "      <td>不安定型糖尿病</td>\n",
       "      <td>不安定型糖尿病</td>\n",
       "      <td>S</td>\n",
       "    </tr>\n",
       "    <tr>\n",
       "      <th>9982</th>\n",
       "      <td>動静脈瘻</td>\n",
       "      <td>動静脈瘻</td>\n",
       "      <td>動静脈瘻</td>\n",
       "      <td>S</td>\n",
       "    </tr>\n",
       "    <tr>\n",
       "      <th>9988</th>\n",
       "      <td>下肢リンパ浮腫</td>\n",
       "      <td>下肢リンパ浮腫</td>\n",
       "      <td>下肢リンパ浮腫</td>\n",
       "      <td>S</td>\n",
       "    </tr>\n",
       "    <tr>\n",
       "      <th>9991</th>\n",
       "      <td>腎血管筋脂肪腫</td>\n",
       "      <td>腎血管筋脂肪腫</td>\n",
       "      <td>腎血管筋脂肪腫</td>\n",
       "      <td>S</td>\n",
       "    </tr>\n",
       "  </tbody>\n",
       "</table>\n",
       "<p>2242 rows × 4 columns</p>\n",
       "</div>"
      ],
      "text/plain": [
       "          出現形      正規形 正規形_generated temp_flag\n",
       "2         糖尿病      糖尿病           糖尿病         S\n",
       "4           癌        癌             癌         S\n",
       "8         心不全      心不全           心不全         S\n",
       "10         出血       出血            出血         S\n",
       "11         腫瘍       腫瘍            腫瘍         S\n",
       "...       ...      ...           ...       ...\n",
       "9973     乳癌再発     乳癌再発          乳癌再発         S\n",
       "9979  不安定型糖尿病  不安定型糖尿病       不安定型糖尿病         S\n",
       "9982     動静脈瘻     動静脈瘻          動静脈瘻         S\n",
       "9988  下肢リンパ浮腫  下肢リンパ浮腫       下肢リンパ浮腫         S\n",
       "9991  腎血管筋脂肪腫  腎血管筋脂肪腫       腎血管筋脂肪腫         S\n",
       "\n",
       "[2242 rows x 4 columns]"
      ]
     },
     "execution_count": 16,
     "metadata": {},
     "output_type": "execute_result"
    }
   ],
   "source": [
    "df_merge[df_merge[\"正規形_flag\"] ==\"S\"][[\"出現形\", \"正規形\", \"正規形_generated\", \"temp_flag\"]]"
   ]
  },
  {
   "cell_type": "code",
   "execution_count": 25,
   "metadata": {},
   "outputs": [],
   "source": [
    "df_merge.to_csv(\"../data/merged/DISEASE_SIP-3_v202401_2.4_small_add_normal_form_generated.csv\", index=False)"
   ]
  },
  {
   "cell_type": "code",
   "execution_count": null,
   "metadata": {},
   "outputs": [],
   "source": []
  }
 ],
 "metadata": {
  "kernelspec": {
   "display_name": ".venv",
   "language": "python",
   "name": "python3"
  },
  "language_info": {
   "codemirror_mode": {
    "name": "ipython",
    "version": 3
   },
   "file_extension": ".py",
   "mimetype": "text/x-python",
   "name": "python",
   "nbconvert_exporter": "python",
   "pygments_lexer": "ipython3",
   "version": "3.11.7"
  }
 },
 "nbformat": 4,
 "nbformat_minor": 2
}
